{
 "cells": [
  {
   "cell_type": "code",
   "execution_count": null,
   "metadata": {
    "collapsed": false,
    "deletable": true,
    "editable": true
   },
   "outputs": [],
   "source": [
    "import matplotlib.pyplot as plt\n",
    "import tqdm"
   ]
  },
  {
   "cell_type": "code",
   "execution_count": null,
   "metadata": {
    "collapsed": false,
    "deletable": true,
    "editable": true
   },
   "outputs": [],
   "source": [
    "plt.plot([1,2,3,4], [5,1,35,45], 'red')\n",
    "plt.plot([1,2,3,4], [1,2,50,20])"
   ]
  },
  {
   "cell_type": "code",
   "execution_count": null,
   "metadata": {
    "collapsed": false,
    "deletable": true,
    "editable": true
   },
   "outputs": [],
   "source": [
    "plt??"
   ]
  },
  {
   "cell_type": "code",
   "execution_count": null,
   "metadata": {
    "collapsed": false,
    "deletable": true,
    "editable": true
   },
   "outputs": [],
   "source": [
    "import my_module as mm\n",
    "from threading import Thread\n",
    "import matplotlib.pyplot as plt\n",
    "import time\n",
    "import tqdm\n",
    "\n",
    "\n",
    "def run_count_single_thread(N):\n",
    "    t0 = time.time()\n",
    "    mm.count_custom(N)\n",
    "    t = time.time() - t0\n",
    "    print(\"Single:\", t)\n",
    "    return t\n",
    "\n",
    "\n",
    "def run_count_multithread(N):\n",
    "    t1 = Thread(target=mm.count_custom, args=(N//2,))\n",
    "    t2 = Thread(target=mm.count_custom, args=(N//2,))\n",
    "    t0 = time.time()\n",
    "    t1.start(); t2.start();\n",
    "    t1.join(); t2.join();\n",
    "    t = time.time() - t0\n",
    "    print(\"Double: \", t)\n",
    "    return t\n",
    "\n",
    "def main():\n",
    "    time_span_single = []\n",
    "    time_span_multiple = []\n",
    "    no_count = []\n",
    "    start, stop, step = int(10e6), int(10e7), int(10e6)\n",
    "    for i in tqdm.tqdm(range(start, stop, step)):\n",
    "        no_count.append(i)\n",
    "        print(i)\n",
    "        time_span_single.append(run_count_single_thread(i))\n",
    "        time_span_multiple.append(run_count_multithread(i))\n",
    "\n",
    "    plt.plot(no_count, time_span_single, label=\"single thread\")\n",
    "    plt.plot(no_count, time_span_multiple, label=\"multi thread\")\n",
    "    plt.xlabel('Number of loops')\n",
    "    plt.ylabel('Time')\n",
    "    plt.legend(loc='best')\n",
    "    plt.figure(figsize=(15, 20), dpi=400)\n",
    "    plt.show()\n",
    "\n",
    "main()"
   ]
  },
  {
   "cell_type": "code",
   "execution_count": null,
   "metadata": {
    "collapsed": false,
    "deletable": true,
    "editable": true
   },
   "outputs": [],
   "source": [
    "from threading import Thread\n",
    "import matplotlib.pyplot as plt\n",
    "import time\n",
    "import tqdm\n",
    "\n",
    "def count(n):\n",
    "    while n > 0:\n",
    "        n -= 1\n",
    "\n",
    "def run_count_single_thread(N):\n",
    "    t0 = time.time()\n",
    "    count(N)\n",
    "    t = time.time() - t0\n",
    "    print(\"Single:\", t)\n",
    "    return t\n",
    "\n",
    "\n",
    "def run_count_multithread(N):\n",
    "    t1 = Thread(target=count, args=(N//2,))\n",
    "    t2 = Thread(target=count, args=(N//2,))\n",
    "    t0 = time.time()\n",
    "    t1.start(); t2.start();\n",
    "    t1.join(); t2.join();\n",
    "    t = time.time() - t0\n",
    "    print(\"Double: \", t)\n",
    "    return t\n",
    "\n",
    "def main():\n",
    "    time_span_single = []\n",
    "    time_span_multiple = []\n",
    "    no_count = []\n",
    "    start, stop, step = int(10e6), int(10e7), int(10e6)\n",
    "    for i in tqdm.tqdm(range(start, stop, step)):\n",
    "        no_count.append(i)\n",
    "        print(i)\n",
    "        time_span_single.append(run_count_single_thread(i))\n",
    "        time_span_multiple.append(run_count_multithread(i))\n",
    "\n",
    "    plt.plot(no_count, time_span_single, label=\"single thread\")\n",
    "    plt.plot(no_count, time_span_multiple, label=\"multi thread\")\n",
    "    plt.xlabel('Number of loops')\n",
    "    plt.ylabel('Time')\n",
    "    plt.legend(loc='best')\n",
    "    plt.figure(figsize=(15, 20), dpi=400)\n",
    "    plt.show()\n",
    "\n",
    "main()"
   ]
  },
  {
   "cell_type": "code",
   "execution_count": null,
   "metadata": {
    "collapsed": false,
    "deletable": true,
    "editable": true
   },
   "outputs": [],
   "source": []
  },
  {
   "cell_type": "code",
   "execution_count": null,
   "metadata": {
    "collapsed": true,
    "deletable": true,
    "editable": true
   },
   "outputs": [],
   "source": []
  }
 ],
 "metadata": {
  "kernelspec": {
   "display_name": "Python 3",
   "language": "python",
   "name": "python3"
  },
  "language_info": {
   "codemirror_mode": {
    "name": "ipython",
    "version": 3
   },
   "file_extension": ".py",
   "mimetype": "text/x-python",
   "name": "python",
   "nbconvert_exporter": "python",
   "pygments_lexer": "ipython3",
   "version": "3.5.2"
  }
 },
 "nbformat": 4,
 "nbformat_minor": 2
}
